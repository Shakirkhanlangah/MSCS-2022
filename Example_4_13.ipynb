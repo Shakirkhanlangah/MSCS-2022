{
  "nbformat": 4,
  "nbformat_minor": 0,
  "metadata": {
    "colab": {
      "provenance": []
    },
    "kernelspec": {
      "name": "python3",
      "display_name": "Python 3"
    },
    "language_info": {
      "name": "python"
    }
  },
  "cells": [
    {
      "cell_type": "markdown",
      "source": [
        "4-13. Buffet: A buffet-style restaurant offers only five basic foods Think of five\n",
        "simple foods, and store them in a tuple\n",
        "•\t Use a for loop to print each food the restaurant offers\n",
        "•\t Try to modify one of the items, and make sure that Python rejects the change\n",
        "•\t The restaurant changes its menu, replacing two of the items with different\n",
        "foods Add a block of code that rewrites the tuple, and then use a for\n",
        "loop to print each of the items on the revised menu"
      ],
      "metadata": {
        "id": "EtP4Q5dOPsZr"
      }
    },
    {
      "cell_type": "code",
      "source": [
        "shakir_items = ('Sandwich', 'Nuggets', 'Burger', 'Crab cakes', 'Pizza')\n",
        "print(\"You can choose from the sajid's items:\")\n",
        "for food in shakir_items:\n",
        "    print(\". \" + food)\n",
        "\n",
        "shakir_items = ('Sandwich', 'Nuggets', 'Burger', 'Kabab', 'Finger Chips')\n",
        "\n",
        "print('\\nOur manu has been updated:')\n",
        "print(\"You can choose now from sajid's items:\")\n",
        "\n",
        "for food in shakir_items:\n",
        "    print('- ' + food)"
      ],
      "metadata": {
        "colab": {
          "base_uri": "https://localhost:8080/"
        },
        "id": "s8oZGU0EQY7p",
        "outputId": "efe337ea-2d60-44f4-ab0e-c70e9ae4ecad"
      },
      "execution_count": 3,
      "outputs": [
        {
          "output_type": "stream",
          "name": "stdout",
          "text": [
            "You can choose from the sajid's items:\n",
            ". Sandwich\n",
            ". Nuggets\n",
            ". Burger\n",
            ". Crab cakes\n",
            ". Pizza\n",
            "\n",
            "Our manu has been updated:\n",
            "You can choose now from sajid's items:\n",
            "- Sandwich\n",
            "- Nuggets\n",
            "- Burger\n",
            "- Kabab\n",
            "- Finger Chips\n"
          ]
        }
      ]
    }
  ]
}