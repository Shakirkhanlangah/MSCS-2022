{
  "nbformat": 4,
  "nbformat_minor": 0,
  "metadata": {
    "colab": {
      "provenance": []
    },
    "kernelspec": {
      "name": "python3",
      "display_name": "Python 3"
    },
    "language_info": {
      "name": "python"
    }
  },
  "cells": [
    {
      "cell_type": "markdown",
      "source": [
        "**Assignment 1**\n",
        "\n",
        "**3-6. More Guests:** You just found a bigger dinner table, so now more space is\n",
        "available. Think of three more guests to invite to dinner.\n",
        "\n",
        "\n",
        "* Start with your program from Exercise 3-4 or Exercise 3-5. Add a print\n",
        "  statement to the end of your program informing people that you found a\n",
        "  bigger dinner table.\n",
        "* Use insert() to add one new guest to the beginning of your list.\n",
        "\n",
        "* Use insert() to add one new guest to the middle of your list.\n",
        "* Use append() to add one new guest to the end of your list.\n",
        "\n",
        "\n",
        "* Print a new set of invitation messages, one for each person in your list.\n",
        "\n"
      ],
      "metadata": {
        "id": "IYU4z4I2RXzD"
      }
    },
    {
      "cell_type": "code",
      "source": [
        "shakir_list = ['Shabir6023', 'Adeel', 'Sajid']\n",
        "\n",
        "print(shakir_list[0] + \", You are invited for dinner.\")\n",
        "\n",
        "print(shakir_list[1] + \", You are invited for dinner.\")\n",
        "\n",
        "print(shakir_list[2] + \", You are invited for dinner.\")\n",
        "\n",
        "print(\"\\nSorry \" + shakir_list[1] + \", Can't make it to dinner.\")\n",
        "\n",
        "del(shakir_list[1])\n",
        "\n",
        "shakir_list.insert(1, 'Faisal')\n",
        "\n",
        "print(\"\\n\" + shakir_list[0] + \", You are invited for dinner.\")\n",
        "\n",
        "print(shakir_list[1] + \", You are invited for dinner.\")\n",
        "\n",
        "print(shakir_list[2] + \", You are invited for dinner.\")\n",
        "\n",
        "print(\"\\nWe got a bigger table!\")\n",
        "\n",
        "shakir_list.insert(0, 'Kamran')\n",
        "shakir_list.insert(2, 'Sarfraz')\n",
        "shakir_list.append('Asif')\n",
        "\n",
        "print(shakir_list[0] + \", You are invited for dinner.\")\n",
        "\n",
        "print(shakir_list[1] + \", You are invited for dinner.\")\n",
        "\n",
        "print(shakir_list[2] + \", You are invited for dinner.\")\n",
        "\n",
        "print(shakir_list[3] + \", You are invited for dinner.\")\n",
        "\n",
        "print(shakir_list[4] + \", You are invited for dinner.\")\n",
        "\n",
        "print(shakir_list[5] + \", You are invited for dinner.\")\n",
        "\n"
      ],
      "metadata": {
        "id": "uvBdtNChRk8G",
        "colab": {
          "base_uri": "https://localhost:8080/"
        },
        "outputId": "e56398af-1805-4c5f-e2ed-a08f1b48e9c1"
      },
      "execution_count": 19,
      "outputs": [
        {
          "output_type": "stream",
          "name": "stdout",
          "text": [
            "Shabir6023, You are invited for dinner.\n",
            "Adeel, You are invited for dinner.\n",
            "Sajid, You are invited for dinner.\n",
            "\n",
            "Sorry Adeel, Can't make it to dinner.\n",
            "\n",
            "Shabir6023, You are invited for dinner.\n",
            "Faisal, You are invited for dinner.\n",
            "Sajid, You are invited for dinner.\n",
            "\n",
            "We got a bigger table!\n",
            "Kamran, You are invited for dinner.\n",
            "Shabir6023, You are invited for dinner.\n",
            "Sarfraz, You are invited for dinner.\n",
            "Faisal, You are invited for dinner.\n",
            "Sajid, You are invited for dinner.\n",
            "Asif, You are invited for dinner.\n"
          ]
        }
      ]
    }
  ]
}