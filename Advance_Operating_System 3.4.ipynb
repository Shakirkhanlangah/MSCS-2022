{
  "nbformat": 4,
  "nbformat_minor": 0,
  "metadata": {
    "colab": {
      "provenance": []
    },
    "kernelspec": {
      "name": "python3",
      "display_name": "Python 3"
    },
    "language_info": {
      "name": "python"
    }
  },
  "cells": [
    {
      "cell_type": "markdown",
      "source": [
        "**Assignment 1**\n",
        "\n",
        "**3.4- Guest List:** If you could invite anyone, living or deceased, to dinner, who\n",
        "would you invite? Make a list that includes at least three people you’d like to\n",
        "invite to dinner. Then use your list to print a message to each person, inviting\n",
        "them to dinner."
      ],
      "metadata": {
        "id": "IYU4z4I2RXzD"
      }
    },
    {
      "cell_type": "code",
      "source": [
        "shakir_list = ['Shabir6023', 'Adeel', 'Sajid']\n",
        "\n",
        "print(shakir_list[0] + \", You are invited for dinner.\")\n",
        "\n",
        "print(shakir_list[1] + \", You are invited for dinner.\")\n",
        "\n",
        "print(shakir_list[2] + \", You are invited for dinner.\")"
      ],
      "metadata": {
        "colab": {
          "base_uri": "https://localhost:8080/"
        },
        "id": "uvBdtNChRk8G",
        "outputId": "912818c4-e18f-46c7-efc0-d7bfb451c511"
      },
      "execution_count": 7,
      "outputs": [
        {
          "output_type": "stream",
          "name": "stdout",
          "text": [
            "Shabir6023, You are invited for dinner.\n",
            "Adeel, You are invited for dinner.\n",
            "Sajid, You are invited for dinner.\n"
          ]
        }
      ]
    },
    {
      "cell_type": "markdown",
      "source": [],
      "metadata": {
        "id": "sjavEM8-Rl5X"
      }
    }
  ]
}