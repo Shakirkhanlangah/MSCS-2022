{
  "nbformat": 4,
  "nbformat_minor": 0,
  "metadata": {
    "colab": {
      "provenance": []
    },
    "kernelspec": {
      "name": "python3",
      "display_name": "Python 3"
    },
    "language_info": {
      "name": "python"
    }
  },
  "cells": [
    {
      "cell_type": "markdown",
      "source": [
        "**Assignment 1**\n",
        "\n",
        "**3-7. Shrinking Guest List:** You just found out that your new dinner table won’t arrive in time for the dinner, and you have space for only two guests.\n",
        "\n",
        "*  Start with your program from Exercise 3-6. Add a new line that prints a\n",
        "   message saying that you can invite only two people for dinner.\n",
        "*  Use pop() to remove guests from your list one at a time until only two\n",
        "   names remain in your list. Each time you pop a name from your list, print\n",
        "   a message to that person letting them know you’re sorry you can’t invite\n",
        "   them to dinner.\n",
        "\n",
        "*  Print a message to each of the two people still on your list, letting them\n",
        "   know they’re still invited.\n",
        "*  Use del to remove the last two names from your list, so you have an empty\n",
        "   list. Print your list to make sure you actually have an empty list at the end\n",
        "   of your program."
      ],
      "metadata": {
        "id": "IYU4z4I2RXzD"
      }
    },
    {
      "cell_type": "code",
      "source": [
        "shakir_list = ['Shabir6023', 'Adeel', 'Sajid']\n",
        "\n",
        "print(shakir_list[0] + \", You are invited for dinner.\")\n",
        "\n",
        "print(shakir_list[1] + \", You are invited for dinner.\")\n",
        "\n",
        "print(shakir_list[2] + \", You are invited for dinner.\")\n",
        "\n",
        "print(\"\\nSorry \" + shakir_list[1] + \", Can't make it to dinner.\")\n",
        "\n",
        "del(shakir_list[1])\n",
        "\n",
        "shakir_list.insert(1, 'Faisal')\n",
        "\n",
        "print(\"\\n\" + shakir_list[0] + \", You are invited for dinner.\")\n",
        "\n",
        "print(shakir_list[1] + \", You are invited for dinner.\")\n",
        "\n",
        "print(shakir_list[2] + \", You are invited for dinner.\")\n",
        "\n",
        "print(\"\\nWe got a bigger table!\")\n",
        "\n",
        "shakir_list.insert(0, 'Kamran')\n",
        "shakir_list.insert(2, 'Sarfraz')\n",
        "shakir_list.append('Asif')\n",
        "\n",
        "print(shakir_list[0] + \", You are invited for dinner.\")\n",
        "\n",
        "print(shakir_list[1] + \", You are invited for dinner.\")\n",
        "\n",
        "print(shakir_list[2] + \", You are invited for dinner.\")\n",
        "\n",
        "print(shakir_list[3] + \", You are invited for dinner.\")\n",
        "\n",
        "print(shakir_list[4] + \", You are invited for dinner.\")\n",
        "\n",
        "print(shakir_list[5] + \", You are invited for dinner.\")\n",
        "\n",
        "print(\"\\nSorry, We have only two people's room on table.\")\n",
        "\n",
        "print(\"Sorry, \" + shakir_list.pop() + \" There is no space on the table.\")\n",
        "\n",
        "print(\"Sorry, \" + shakir_list.pop() + \" There is no space on the table.\")\n",
        "\n",
        "print(\"Sorry, \" + shakir_list.pop() + \" There is no space on the table.\")\n",
        "\n",
        "print(\"Sorry, \" + shakir_list.pop() + \" There is no space on the table.\")\n",
        "\n",
        "print(shakir_list[0] + \", You are invited for dinner.\")\n",
        "\n",
        "print(shakir_list[1] + \", You are invited for dinner.\")\n",
        "\n",
        "del(shakir_list[0])\n",
        "del(shakir_list[0])\n",
        "\n",
        "print(shakir_list)\n",
        "    "
      ],
      "metadata": {
        "id": "uvBdtNChRk8G",
        "colab": {
          "base_uri": "https://localhost:8080/"
        },
        "outputId": "ab5277e3-037d-4a41-bc29-45ae796ef54a"
      },
      "execution_count": 25,
      "outputs": [
        {
          "output_type": "stream",
          "name": "stdout",
          "text": [
            "Shabir6023, You are invited for dinner.\n",
            "Adeel, You are invited for dinner.\n",
            "Sajid, You are invited for dinner.\n",
            "\n",
            "Sorry Adeel, Can't make it to dinner.\n",
            "\n",
            "Shabir6023, You are invited for dinner.\n",
            "Faisal, You are invited for dinner.\n",
            "Sajid, You are invited for dinner.\n",
            "\n",
            "We got a bigger table!\n",
            "Kamran, You are invited for dinner.\n",
            "Shabir6023, You are invited for dinner.\n",
            "Sarfraz, You are invited for dinner.\n",
            "Faisal, You are invited for dinner.\n",
            "Sajid, You are invited for dinner.\n",
            "Asif, You are invited for dinner.\n",
            "\n",
            "Sorry, We have only two people's room on table.\n",
            "Sorry, Asif There is no space on the table.\n",
            "Sorry, Sajid There is no space on the table.\n",
            "Sorry, Faisal There is no space on the table.\n",
            "Sorry, Sarfraz There is no space on the table.\n",
            "Kamran, You are invited for dinner.\n",
            "Shabir6023, You are invited for dinner.\n",
            "[]\n"
          ]
        }
      ]
    }
  ]
}