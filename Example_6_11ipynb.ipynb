{
  "nbformat": 4,
  "nbformat_minor": 0,
  "metadata": {
    "colab": {
      "provenance": []
    },
    "kernelspec": {
      "name": "python3",
      "display_name": "Python 3"
    },
    "language_info": {
      "name": "python"
    }
  },
  "cells": [
    {
      "cell_type": "markdown",
      "source": [
        "6-11. Cities: Make a dictionary called cities Use the names of three cities as\n",
        "      keys in your dictionary Create a dictionary of information about each city and\n",
        "      include the country that the city is in, its approximate population, and one fact\n",
        "      about that city The keys for each city’s dictionary should be something like\n",
        "      country, population, and fact Print the name of each city and all of the information you have stored about it"
      ],
      "metadata": {
        "id": "EtP4Q5dOPsZr"
      }
    },
    {
      "cell_type": "code",
      "source": [
        "shakir_cities = {\n",
        "    'karachi' : {\n",
        "        'countary' : 'pakistan',\n",
        "        'population' : '16.872 Million',\n",
        "        'fact' : 'pakistan biggest and ecnomical city.'\n",
        "       },\n",
        "    'makkah' : {\n",
        "        'countary' : 'saudia',\n",
        "        'population' : '2.11 Million',\n",
        "        'fact' : 'this is the holiest city of all world muslims. '\n",
        "        },\n",
        "    'new york' : {\n",
        "       'countary' : 'usa',\n",
        "        'population' : '18.86 Million',\n",
        "        'fact' : 'this is the biggest city of united state of america.'\n",
        "    }\n",
        "}\n",
        "for cities, city_info in shakir_cities.items():\n",
        "\n",
        "    countary = city_info['countary'].title()\n",
        "    population = city_info['population']\n",
        "    facts = city_info['fact'].title()\n",
        "\n",
        "    print(\"\\n\" + cities.title() + \" is in \" + countary + \"!\")\n",
        "    print(\"It has a population of about \" + str(population) + \"!\")\n",
        "    print(facts)"
      ],
      "metadata": {
        "colab": {
          "base_uri": "https://localhost:8080/"
        },
        "id": "_DlYz-oOWvtW",
        "outputId": "efbedd46-16d4-4229-cd43-f1fb96d095ea"
      },
      "execution_count": 11,
      "outputs": [
        {
          "output_type": "stream",
          "name": "stdout",
          "text": [
            "\n",
            "Karachi is in Pakistan!\n",
            "It has a population of about 16.872 Million!\n",
            "Pakistan Biggest And Ecnomical City.\n",
            "\n",
            "Makkah is in Saudia!\n",
            "It has a population of about 2.11 Million!\n",
            "This Is The Holiest City Of All World Muslims. \n",
            "\n",
            "New York is in Usa!\n",
            "It has a population of about 18.86 Million!\n",
            "This Is The Biggest City Of United State Of America.\n"
          ]
        }
      ]
    },
    {
      "cell_type": "markdown",
      "source": [],
      "metadata": {
        "id": "-D-7EbAJWyER"
      }
    }
  ]
}