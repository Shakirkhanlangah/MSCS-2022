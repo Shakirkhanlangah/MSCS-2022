{
  "nbformat": 4,
  "nbformat_minor": 0,
  "metadata": {
    "colab": {
      "provenance": []
    },
    "kernelspec": {
      "name": "python3",
      "display_name": "Python 3"
    },
    "language_info": {
      "name": "python"
    }
  },
  "cells": [
    {
      "cell_type": "markdown",
      "source": [
        "6-3. Glossary: A Python dictionary can be used to model an actual dictionary\n",
        "However, to avoid confusion, let’s call it a glossary\n",
        "•\t Think of five programming words you’ve learned about in the previous\n",
        "chapters Use these words as the keys in your glossary, and store their\n",
        "meanings as values\n",
        "•\t Print each word and its meaning as neatly formatted output You might\n",
        "print the word followed by a colon and then its meaning, or print the word\n",
        "on one line and then print its meaning indented on a second line Use the\n",
        "newline character (\\n) to insert a blank line between each word-meaning\n",
        "pair in your outp"
      ],
      "metadata": {
        "id": "EtP4Q5dOPsZr"
      }
    },
    {
      "cell_type": "code",
      "source": [
        "shakir_glossary = {\n",
        "    'string' : 'A series of characters.', \n",
        "    'comment' : 'A note in the Program that the python interpreter ignores.',\n",
        "    'list' : 'A collection of items in a particular order',\n",
        "    'dictionary' : 'A collection of key-value pairs.',\n",
        "    'loop' : 'Work through a collection of items, one at a time.'\n",
        "}\n",
        "word = 'string'\n",
        "print('\\n' + word.title() + \":\" +'\\n' + shakir_glossary[word])\n",
        "\n",
        "word = 'comment'\n",
        "print('\\n' + word.title() + \":\" +'\\n' + shakir_glossary[word])\n",
        "\n",
        "word = 'list'\n",
        "print('\\n' + word.title() + \":\" +'\\n' + shakir_glossary[word])\n",
        "\n",
        "word = 'dictionary'\n",
        "print('\\n' + word.title() + \":\" +'\\n' + shakir_glossary[word])\n",
        "\n",
        "word = 'loop'\n",
        "print('\\n' + word.title() + \":\" +'\\n' + shakir_glossary[word])"
      ],
      "metadata": {
        "colab": {
          "base_uri": "https://localhost:8080/"
        },
        "id": "zB38f283XOrQ",
        "outputId": "1dd12938-e163-429c-b1e8-7ab3b5c515ed"
      },
      "execution_count": 12,
      "outputs": [
        {
          "output_type": "stream",
          "name": "stdout",
          "text": [
            "\n",
            "String:\n",
            "A series of characters.\n",
            "\n",
            "Comment:\n",
            "A note in the Program that the python interpreter ignores.\n",
            "\n",
            "List:\n",
            "A collection of items in a particular order\n",
            "\n",
            "Dictionary:\n",
            "A collection of key-value pairs.\n",
            "\n",
            "Loop:\n",
            "Work through a collection of items, one at a time.\n"
          ]
        }
      ]
    },
    {
      "cell_type": "markdown",
      "source": [],
      "metadata": {
        "id": "-D-7EbAJWyER"
      }
    }
  ]
}