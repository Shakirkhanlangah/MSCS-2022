{
  "nbformat": 4,
  "nbformat_minor": 0,
  "metadata": {
    "colab": {
      "provenance": []
    },
    "kernelspec": {
      "name": "python3",
      "display_name": "Python 3"
    },
    "language_info": {
      "name": "python"
    }
  },
  "cells": [
    {
      "cell_type": "markdown",
      "source": [
        "6-12. Extensions: We’re now working with examples that are complex enough\n",
        "that they can be extended in any number of ways Use one of the example programs from this chapter, and extend it by adding new keys and values, changing the context of the program or improving the formatting of the output"
      ],
      "metadata": {
        "id": "EtP4Q5dOPsZr"
      }
    },
    {
      "cell_type": "code",
      "source": [
        "favourite_language_shakir = {\n",
        "    'Muneer' : 'HTML', \n",
        "    'Shahid' : 'Assembly', \n",
        "    'Bilal' : 'C#', \n",
        "    'Junaid' : 'Python'\n",
        "    }\n",
        "print('The given items are into dictionary:')\n",
        "for name, language in favourite_language_shakir.items():\n",
        "    print(name.title()+ \"'s favourite Language is: \"+language.title())\n",
        "\n",
        "#Adding new keys and vaues in the dictionary\n",
        "favourite_language_shakir['Zeeshan'] = 'java'\n",
        "favourite_language_shakir['Jawad'] = 'php'\n",
        "print('\\nAfter adding new keys and values following items are into th disctionary:')\n",
        "for name, language in favourite_language_shakir.items():\n",
        "    print(name.title()+ \"'s favourite Language is --- \"+language.upper())"
      ],
      "metadata": {
        "colab": {
          "base_uri": "https://localhost:8080/"
        },
        "id": "s8oZGU0EQY7p",
        "outputId": "f3764b2b-868f-4cfe-f5ff-360ac57444aa"
      },
      "execution_count": 6,
      "outputs": [
        {
          "output_type": "stream",
          "name": "stdout",
          "text": [
            "The given items are into dictionary:\n",
            "Muneer's favourite Language is: Html\n",
            "Shahid's favourite Language is: Assembly\n",
            "Bilal's favourite Language is: C#\n",
            "Junaid's favourite Language is: Python\n",
            "\n",
            "After adding new keys and values following items are into th disctionary:\n",
            "Muneer's favourite Language is --- HTML\n",
            "Shahid's favourite Language is --- ASSEMBLY\n",
            "Bilal's favourite Language is --- C#\n",
            "Junaid's favourite Language is --- PYTHON\n",
            "Zeeshan's favourite Language is --- JAVA\n",
            "Jawad's favourite Language is --- PHP\n"
          ]
        }
      ]
    }
  ]
}