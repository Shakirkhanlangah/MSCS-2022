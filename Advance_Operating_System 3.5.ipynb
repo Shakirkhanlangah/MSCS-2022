{
  "nbformat": 4,
  "nbformat_minor": 0,
  "metadata": {
    "colab": {
      "provenance": []
    },
    "kernelspec": {
      "name": "python3",
      "display_name": "Python 3"
    },
    "language_info": {
      "name": "python"
    }
  },
  "cells": [
    {
      "cell_type": "markdown",
      "source": [
        "**Assignment 1**\n",
        "\n",
        "**3-5. Changing Guest List:** You just heard that one of your guests can’t make the dinner, so you need to send out a new set of invitations. You’ll have to think of someone else to invite.\n",
        "\n",
        "* Start with your program from Exercise 3-4. Add a print statement at the\n",
        "  end of your program stating the name of the guest who can’t make it.\n",
        "* Modify your list, replacing the name of the guest who can’t make it with\n",
        "  the name of the new person you are inviting.\n",
        "* Print a second set of invitation messages, one for each person who is still\n",
        "  in your list.\n"
      ],
      "metadata": {
        "id": "IYU4z4I2RXzD"
      }
    },
    {
      "cell_type": "code",
      "source": [
        "shakir_list = ['Shabir6023', 'Adeel', 'Sajid']\n",
        "\n",
        "print(shakir_list[0] + \", You are invited for dinner.\")\n",
        "\n",
        "print(shakir_list[1] + \", You are invited for dinner.\")\n",
        "\n",
        "print(shakir_list[2] + \", You are invited for dinner.\")\n",
        "\n",
        "print(\"\\nSorry \" + shakir_list[1] + \", Can't make it to dinner.\")\n",
        "\n",
        "del(shakir_list[1])\n",
        "\n",
        "shakir_list.insert(1, 'Faisal')\n",
        "\n",
        "print(\"\\n\" + shakir_list[0] + \", You are invited for dinner.\")\n",
        "\n",
        "print(shakir_list[1] + \", You are invited for dinner.\")\n",
        "\n",
        "print(shakir_list[2] + \", You are invited for dinner.\")"
      ],
      "metadata": {
        "id": "uvBdtNChRk8G",
        "colab": {
          "base_uri": "https://localhost:8080/"
        },
        "outputId": "eb8e04ea-c5db-4ea0-e72a-a03a3cfabc8b"
      },
      "execution_count": 16,
      "outputs": [
        {
          "output_type": "stream",
          "name": "stdout",
          "text": [
            "Shabir6023, You are invited for dinner.\n",
            "Adeel, You are invited for dinner.\n",
            "Sajid, You are invited for dinner.\n",
            "\n",
            "Sorry Adeel, Can't make it to dinner.\n",
            "\n",
            "Shabir6023, You are invited for dinner.\n",
            "Faisal, You are invited for dinner.\n",
            "Sajid, You are invited for dinner.\n"
          ]
        }
      ]
    },
    {
      "cell_type": "markdown",
      "source": [],
      "metadata": {
        "id": "sjavEM8-Rl5X"
      }
    }
  ]
}