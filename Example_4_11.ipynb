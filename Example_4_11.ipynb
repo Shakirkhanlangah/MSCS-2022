{
  "nbformat": 4,
  "nbformat_minor": 0,
  "metadata": {
    "colab": {
      "provenance": []
    },
    "kernelspec": {
      "name": "python3",
      "display_name": "Python 3"
    },
    "language_info": {
      "name": "python"
    }
  },
  "cells": [
    {
      "cell_type": "markdown",
      "source": [
        "4-11. My Pizzas, Your Pizzas: Start with your program from Exercise 4-1\n",
        "(page 60) Make a copy of the list of pizzas, and call it friend_pizzas\n",
        "Then, do the following:\n",
        "•\t Add a new pizza to the original list\n",
        "•\t Add a different pizza to the list friend_pizzas\n",
        "•\t Prove that you have two separate lists Print the message, My favorite\n",
        "pizzas are:, and then use a for loop to print the first list Print the message,\n",
        "My friend’s favorite pizzas are:, and then use a for loop to print the second list Make sure each new pizza\n",
        "is stored in the appropriate list"
      ],
      "metadata": {
        "id": "EtP4Q5dOPsZr"
      }
    },
    {
      "cell_type": "code",
      "source": [
        "shakir_pizzas = ['Fajita', 'Chiken Tika', 'Cheese Pizza']\n",
        "\n",
        "friend_pizzas = shakir_pizzas[:]\n",
        "\n",
        "shakir_pizzas.append(\"meat lover's\")\n",
        "friend_pizzas.append('pesto')\n",
        "\n",
        "print(\"My favorite pizzas are:\")\n",
        "for pizza in shakir_pizzas:\n",
        "    print(\"- \" + pizza)\n",
        "\n",
        "print(\"\\nMy friend favorite pizzas are:\")\n",
        "for pizza in friend_pizzas:\n",
        "    print(\"- \" + pizza)"
      ],
      "metadata": {
        "colab": {
          "base_uri": "https://localhost:8080/"
        },
        "id": "7QLr0DY8PvDA",
        "outputId": "75ad69ae-d1bd-40d5-dd29-33f8652a3992"
      },
      "execution_count": 2,
      "outputs": [
        {
          "output_type": "stream",
          "name": "stdout",
          "text": [
            "My favorite pizzas are:\n",
            "- Fajita\n",
            "- Chiken Tika\n",
            "- Cheese Pizza\n",
            "- meat lover's\n",
            "\n",
            "My friend favorite pizzas are:\n",
            "- Fajita\n",
            "- Chiken Tika\n",
            "- Cheese Pizza\n",
            "- pesto\n"
          ]
        }
      ]
    }
  ]
}