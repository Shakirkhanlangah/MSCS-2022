{
  "nbformat": 4,
  "nbformat_minor": 0,
  "metadata": {
    "colab": {
      "provenance": []
    },
    "kernelspec": {
      "name": "python3",
      "display_name": "Python 3"
    },
    "language_info": {
      "name": "python"
    }
  },
  "cells": [
    {
      "cell_type": "markdown",
      "source": [
        "5-2. More Conditional Tests: You don’t have to limit the number of tests you\n",
        "create to 10 If you want to try more comparisons, write more tests and add\n",
        "them to conditional_tests.py Have at least one True and one False result for\n",
        "each of the following:\n",
        "•\t Tests for equality and inequality with strings\n",
        "•\t Tests using the lower() function\n",
        "•\t Numerical tests involving equality and inequality, greater than and\n",
        "     less than, greater than or equal to, and less than or equal to\n",
        "•\t Tests using the and keyword and the or keyword\n",
        "•\t Test whether an item is in a list\n",
        "•\t Test whether an item is not in a list"
      ],
      "metadata": {
        "id": "EtP4Q5dOPsZr"
      }
    },
    {
      "cell_type": "code",
      "source": [
        "shakir_sport = 'Cricket'\n",
        "print(shakir_sport == 'Football')\n",
        "print(shakir_sport == 'Cricket')\n",
        "print(shakir_sport != 'Football')\n",
        "print(shakir_sport != 'Cricket')\n",
        "\n",
        "#Test using lower function\n",
        "print('\\n')\n",
        "print(shakir_sport.lower() == 'Cricket')\n",
        "print(shakir_sport.lower() == 'cricket')\n",
        "\n",
        "#Point 3\n",
        "print(\"\\n\")\n",
        "shakir_int = 20\n",
        "print(shakir_int == 15)  \n",
        "print(shakir_int != 30)\n",
        "print(shakir_int > 15)\n",
        "print(shakir_int < 10)\n",
        "print(shakir_int <= 10)\n",
        "print(shakir_int >= 20)\n",
        "\n",
        "#Poitn 4\n",
        "print(\"\\n\")\n",
        "position_shakir = 5\n",
        "shakir_marks = 75\n",
        "\n",
        "print(position_shakir < 5 and shakir_marks >= 70)\n",
        "print(position_shakir> 5 or shakir_marks >=70)\n",
        "\n",
        "#Check whether  item is in list or not\n",
        "print(\"\\n\")\n",
        "shakir_list = [45, 85, 56, 158, 69]\n",
        "number_shakir = 100\n",
        "for item  in shakir_list:\n",
        "    if(shakir_list == number_shakir):\n",
        "        number_shakir = True\n",
        "    if(number_shakir == True):\n",
        "\n",
        "        print(\"Item is available into the list\")\n",
        "else:\n",
        "           print(\"Item is not avaialbale into the list\")"
      ],
      "metadata": {
        "colab": {
          "base_uri": "https://localhost:8080/"
        },
        "id": "s8oZGU0EQY7p",
        "outputId": "8265e149-31d7-467e-ef5c-bd9b9fc208e8"
      },
      "execution_count": 4,
      "outputs": [
        {
          "output_type": "stream",
          "name": "stdout",
          "text": [
            "False\n",
            "True\n",
            "True\n",
            "False\n",
            "\n",
            "\n",
            "False\n",
            "True\n",
            "\n",
            "\n",
            "False\n",
            "True\n",
            "True\n",
            "False\n",
            "False\n",
            "True\n",
            "\n",
            "\n",
            "False\n",
            "True\n",
            "\n",
            "\n",
            "Item is not avaialbale into the list\n"
          ]
        }
      ]
    }
  ]
}